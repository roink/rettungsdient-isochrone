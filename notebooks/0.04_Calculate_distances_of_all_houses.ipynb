{
 "cells": [
  {
   "cell_type": "code",
   "execution_count": 1,
   "id": "26bb21a4-4d2c-48f1-bcfc-060125b7286b",
   "metadata": {},
   "outputs": [
    {
     "name": "stderr",
     "output_type": "stream",
     "text": [
      "/tmp/ipykernel_73744/1813169740.py:5: DtypeWarning: Columns (7,9,11,12,14) have mixed types. Specify dtype option on import or set low_memory=False.\n",
      "  df = pd.read_csv(file_path)\n"
     ]
    },
    {
     "name": "stdout",
     "output_type": "stream",
     "text": [
      "     Rechtswert     Hochwert        lat       lon  distance_km  duration_min\n",
      "0  32396848,472  5681985,307  51.279854  7.521018      14.7579     27.706667\n",
      "1  32396835,372    5681968,7  51.279703  7.520835      14.7584     27.710000\n",
      "2  32396889,804  5681986,048  51.279868  7.521610      14.7891     27.831667\n",
      "3  32396867,586  5681970,397  51.279724  7.521296      14.7821     27.803333\n",
      "4  32396968,501  5681928,678  51.279367  7.522755      14.9297     28.395000\n"
     ]
    }
   ],
   "source": [
    "import pandas as pd\n",
    "import openrouteservice\n",
    "\n",
    "file_path = \"../data/interim/Hauskoordinaten_latlon.csv\"\n",
    "df = pd.read_csv(file_path)\n",
    "\n",
    "# Initialize your OpenRouteService client (make sure your local ORS instance is running)\n",
    "client = openrouteservice.Client(base_url='http://localhost:8080/ors')\n",
    "\n",
    "# Define the starting point coordinates (in lon, lat format)\n",
    "start_coords = (7.463684770761316, 51.35736663946457)\n",
    "\n",
    "# Function to calculate distance and duration using OpenRouteService\n",
    "def calculate_route(row):\n",
    "    end_coords = (row['lon'], row['lat'])\n",
    "    try:\n",
    "        # Request directions\n",
    "        route = client.directions(coordinates=[start_coords, end_coords], profile='driving-car', format='geojson')\n",
    "        \n",
    "        # Extract distance (in km) and duration (in minutes)\n",
    "        distance_km = route['features'][0]['properties']['segments'][0]['distance'] / 1000  # Convert to km\n",
    "        duration_min = route['features'][0]['properties']['segments'][0]['duration'] / 60  # Convert to minutes\n",
    "        \n",
    "        return pd.Series([distance_km, duration_min])\n",
    "    except openrouteservice.exceptions.ApiError:\n",
    "        # Handle any errors that occur during the API request\n",
    "        return pd.Series([None, None])\n",
    "\n",
    "# Apply the function to each row to calculate distance and duration\n",
    "df[['distance_km', 'duration_min']] = df.apply(calculate_route, axis=1)\n",
    "\n",
    "# Display the updated DataFrame\n",
    "print(df[['Rechtswert', 'Hochwert', 'lat', 'lon', 'distance_km', 'duration_min']].head())\n"
   ]
  },
  {
   "cell_type": "code",
   "execution_count": null,
   "id": "35104b92-2ae8-457c-9e5e-b94dd55878f3",
   "metadata": {},
   "outputs": [],
   "source": []
  }
 ],
 "metadata": {
  "kernelspec": {
   "display_name": "rettungsdient_isochrone",
   "language": "python",
   "name": "rettungsdient_isochrone"
  },
  "language_info": {
   "codemirror_mode": {
    "name": "ipython",
    "version": 3
   },
   "file_extension": ".py",
   "mimetype": "text/x-python",
   "name": "python",
   "nbconvert_exporter": "python",
   "pygments_lexer": "ipython3",
   "version": "3.12.3"
  }
 },
 "nbformat": 4,
 "nbformat_minor": 5
}
