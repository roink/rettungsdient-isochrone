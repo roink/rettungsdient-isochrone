{
 "cells": [
  {
   "cell_type": "code",
   "execution_count": 1,
   "id": "c3be9e1b-fb6a-4cd9-bef3-84f6ee0b1ef1",
   "metadata": {},
   "outputs": [],
   "source": [
    "import os\n",
    "from dotenv import load_dotenv, find_dotenv\n",
    "import openrouteservice\n",
    "import pandas as pd\n",
    "from pyproj import Transformer\n",
    "import folium\n",
    "import sys\n",
    "\n",
    "sys.path.append(os.path.dirname(os.getcwd()))\n",
    "\n",
    "from src.load import load_Hauskoordinaten"
   ]
  },
  {
   "cell_type": "code",
   "execution_count": 2,
   "id": "171218cf-663d-4ca7-bc5e-f6c1f9adc49f",
   "metadata": {},
   "outputs": [
    {
     "name": "stdout",
     "output_type": "stream",
     "text": [
      "Hauskoordinaten.csv already exists.\n",
      "Hauskoordinaten.csv is not a ZIP file, no extraction needed.\n",
      "Number of rows in the dataset: 33933\n"
     ]
    },
    {
     "name": "stderr",
     "output_type": "stream",
     "text": [
      "/home/philipp/Dokumente/Master_Data_Science_Fernuni_Hagen/Masterarbeit/rettungsdient-isochrone/src/load.py:12: DtypeWarning: Columns (6,8,10,11,13) have mixed types. Specify dtype option on import or set low_memory=False.\n",
      "  df = pd.read_csv(file_path,encoding='iso-8859-15', sep=';')\n"
     ]
    }
   ],
   "source": [
    "# Load the CSV file\n",
    "\n",
    "df = load_Hauskoordinaten()\n",
    "# Display the number of rows in the dataset\n",
    "num_rows = df.shape[0]\n",
    "print(f\"Number of rows in the dataset: {num_rows}\")"
   ]
  },
  {
   "cell_type": "code",
   "execution_count": 3,
   "id": "8f88273f-1d81-494a-aa24-1408462c4b0f",
   "metadata": {},
   "outputs": [
    {
     "name": "stdout",
     "output_type": "stream",
     "text": [
      "     Rechtswert     Hochwert        lat       lon\n",
      "0  32396848,472  5681985,307  51.279854  7.521018\n",
      "1  32396835,372    5681968,7  51.279703  7.520835\n",
      "2  32396889,804  5681986,048  51.279868  7.521610\n",
      "3  32396867,586  5681970,397  51.279724  7.521296\n",
      "4  32396968,501  5681928,678  51.279367  7.522755\n"
     ]
    }
   ],
   "source": [
    "# Initialize the transformer for UTM Zone 32N to WGS84\n",
    "transformer = Transformer.from_crs(\"EPSG:32632\", \"EPSG:4326\", always_xy=True)\n",
    "\n",
    "# Function to parse and transform coordinates\n",
    "def transform_coordinates(rechtswert_str, hochwert_str):\n",
    "    # Replace comma with dot for decimal conversion\n",
    "    rechtswert_str = str(rechtswert_str).replace(',', '.')\n",
    "    hochwert_str = str(hochwert_str).replace(',', '.')\n",
    "\n",
    "    # Extract zone number and easting value\n",
    "    zone_number = int(rechtswert_str[:2])  # First two digits\n",
    "    easting = float(rechtswert_str[2:])    # Remaining digits\n",
    "\n",
    "    # Convert northing to float\n",
    "    northing = float(hochwert_str)\n",
    "\n",
    "    # Transform the coordinates\n",
    "    lon, lat = transformer.transform(easting, northing)\n",
    "    return pd.Series([lat, lon])\n",
    "\n",
    "# Assuming df is your DataFrame and 'Rechtswert' and 'Hochwert' are the UTM columns\n",
    "df[['lat', 'lon']] = df.apply(lambda row: transform_coordinates(row['Rechtswert'], row['Hochwert']), axis=1)\n",
    "\n",
    "# Display the first few rows of the updated DataFrame\n",
    "print(df[['Rechtswert', 'Hochwert', 'lat', 'lon']].head())"
   ]
  },
  {
   "cell_type": "code",
   "execution_count": 4,
   "id": "c9be6d40-0380-4a12-98b6-746d23a8bec8",
   "metadata": {},
   "outputs": [],
   "source": [
    "df.to_csv(\"../data/interim/Hauskoordinaten_latlon.csv\")"
   ]
  }
 ],
 "metadata": {
  "kernelspec": {
   "display_name": "rettungsdient_isochrone",
   "language": "python",
   "name": "rettungsdient_isochrone"
  },
  "language_info": {
   "codemirror_mode": {
    "name": "ipython",
    "version": 3
   },
   "file_extension": ".py",
   "mimetype": "text/x-python",
   "name": "python",
   "nbconvert_exporter": "python",
   "pygments_lexer": "ipython3",
   "version": "3.12.3"
  }
 },
 "nbformat": 4,
 "nbformat_minor": 5
}
