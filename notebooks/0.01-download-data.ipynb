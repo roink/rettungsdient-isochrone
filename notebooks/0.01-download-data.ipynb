{
 "cells": [
  {
   "cell_type": "code",
   "execution_count": 1,
   "id": "803d14b6-2470-4774-8482-5f9f3ad20ca5",
   "metadata": {},
   "outputs": [],
   "source": [
    "import os\n",
    "import requests\n",
    "import zipfile"
   ]
  },
  {
   "cell_type": "code",
   "execution_count": 2,
   "id": "cef8fd59-aaf1-47f1-96d1-edab8977d88d",
   "metadata": {},
   "outputs": [],
   "source": [
    "def download_and_unzip(url: str, download_dir: str):\n",
    "    # Extract the filename from the URL\n",
    "    filename = os.path.basename(url)\n",
    "    filepath = os.path.join(download_dir, filename)\n",
    "\n",
    "    # Check if file already exists\n",
    "    if not os.path.exists(filepath):\n",
    "        # Download the file\n",
    "        print(f\"Downloading {filename}...\")\n",
    "        response = requests.get(url)\n",
    "        with open(filepath, 'wb') as f:\n",
    "            f.write(response.content)\n",
    "        print(f\"Downloaded {filename}.\")\n",
    "    else:\n",
    "        print(f\"{filename} already exists.\")\n",
    "\n",
    "    # Check if the file is a ZIP file and unzip it\n",
    "    if filename.endswith('.zip'):\n",
    "        with zipfile.ZipFile(filepath, 'r') as zip_ref:\n",
    "            zip_ref.extractall(download_dir)\n",
    "        print(f\"Unzipped {filename}.\")\n",
    "    else:\n",
    "        print(f\"{filename} is not a ZIP file, no extraction needed.\")"
   ]
  },
  {
   "cell_type": "code",
   "execution_count": 5,
   "id": "dfcecb16-d3e9-49ac-b692-1e3ca3471236",
   "metadata": {},
   "outputs": [
    {
     "name": "stdout",
     "output_type": "stream",
     "text": [
      "Wohnbezirke_Hagen.zip already exists.\n",
      "Unzipped Wohnbezirke_Hagen.zip.\n",
      "Downloading Statistische_Bezirke_Hagen.zip...\n",
      "Downloaded Statistische_Bezirke_Hagen.zip.\n",
      "Unzipped Statistische_Bezirke_Hagen.zip.\n",
      "Downloading Stadtbezirke.zip...\n",
      "Downloaded Stadtbezirke.zip.\n",
      "Unzipped Stadtbezirke.zip.\n",
      "Downloading Hauskoordinaten.csv...\n",
      "Downloaded Hauskoordinaten.csv.\n",
      "Hauskoordinaten.csv is not a ZIP file, no extraction needed.\n"
     ]
    }
   ],
   "source": [
    "download_and_unzip(\"https://www.hagen.de/web/media/files/fb/stadtplaene/wahlen_und_statistik/Wohnbezirke_Hagen.zip\", \"../data/raw\")\n",
    "download_and_unzip(\"https://www.hagen.de/web/media/files/fb/stadtplaene/wahlen_und_statistik/Statistische_Bezirke_Hagen.zip\", \"../data/raw\")\n",
    "download_and_unzip(\"https://www.hagen.de/web/media/files/fb/stadtplaene/wahlen_und_statistik/Stadtbezirke.zip\", \"../data/raw\")\n",
    "download_and_unzip(\"http://www.stadtplan.hagen.de/StrVz/Hauskoordinaten.csv\", \"../data/raw\")"
   ]
  },
  {
   "cell_type": "code",
   "execution_count": null,
   "id": "45daa1f5-0d34-470c-ab9f-16ddd8a9a4eb",
   "metadata": {},
   "outputs": [],
   "source": []
  }
 ],
 "metadata": {
  "kernelspec": {
   "display_name": "rettungsdient_isochrone",
   "language": "python",
   "name": "rettungsdient_isochrone"
  },
  "language_info": {
   "codemirror_mode": {
    "name": "ipython",
    "version": 3
   },
   "file_extension": ".py",
   "mimetype": "text/x-python",
   "name": "python",
   "nbconvert_exporter": "python",
   "pygments_lexer": "ipython3",
   "version": "3.12.3"
  }
 },
 "nbformat": 4,
 "nbformat_minor": 5
}
